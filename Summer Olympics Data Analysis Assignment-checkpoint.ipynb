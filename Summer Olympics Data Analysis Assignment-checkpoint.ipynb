{
 "cells": [
  {
   "cell_type": "code",
   "execution_count": null,
   "id": "regular-litigation",
   "metadata": {},
   "outputs": [],
   "source": [
    "import numpy\n",
    "import matplotlib.pyplot as plt\n",
    "data=pd.read_csv(\"C:\\\\Users\\\\hp\\\\Downloads\\\\summer.csv\")"
   ]
  },
  {
   "cell_type": "markdown",
   "id": "hispanic-quilt",
   "metadata": {},
   "source": [
    "## 1. In how many cities Summer Olympics Is held so far"
   ]
  },
  {
   "cell_type": "code",
   "execution_count": 55,
   "id": "victorian-safety",
   "metadata": {},
   "outputs": [
    {
     "name": "stdout",
     "output_type": "stream",
     "text": [
      "22\n"
     ]
    }
   ],
   "source": [
    "print(len(data['City'].unique()))\n"
   ]
  },
  {
   "cell_type": "markdown",
   "id": "afraid-elements",
   "metadata": {},
   "source": [
    "## 2. Which sport Is having most number of Gold Medals so far? (Top 5)"
   ]
  },
  {
   "cell_type": "code",
   "execution_count": 13,
   "id": "dramatic-provider",
   "metadata": {},
   "outputs": [
    {
     "name": "stdout",
     "output_type": "stream",
     "text": [
      "            medals\n",
      "sport             \n",
      "Aquatics      1421\n",
      "Athletics     1215\n",
      "Rowing         890\n",
      "Gymnastics     820\n",
      "Fencing        552\n"
     ]
    },
    {
     "data": {
      "text/plain": [
       "<AxesSubplot:xlabel='sport'>"
      ]
     },
     "execution_count": 13,
     "metadata": {},
     "output_type": "execute_result"
    },
    {
     "data": {
      "image/png": "[encoded data removed]",
      "text/plain": [
       "<Figure size 432x288 with 1 Axes>"
      ]
     },
     "metadata": {
      "needs_background": "light"
     },
     "output_type": "display_data"
    }
   ],
   "source": [
    "lst=[]\n",
    "for sport in data['Sport'].unique():\n",
    "    dummy=data[data['Sport']==sport]\n",
    "    lst.append([sport,len(dummy[dummy['Medal']=='Gold'])])\n",
    "\n",
    "lst=pd.DataFrame(lst,columns=['sport','medals'])\n",
    "lst=lst.sort_values(by='medals',ascending=False).head()\n",
    "lst=lst.set_index('sport')\n",
    "print(lst)\n",
    "lst.plot(kind='bar')"
   ]
  },
  {
   "cell_type": "markdown",
   "id": "cellular-freeware",
   "metadata": {},
   "source": [
    "# 3. Which sport Is having most number of medals so far? (Top 5)"
   ]
  },
  {
   "cell_type": "code",
   "execution_count": 25,
   "id": "ultimate-preview",
   "metadata": {},
   "outputs": [
    {
     "name": "stdout",
     "output_type": "stream",
     "text": [
      "            medals\n",
      "sport             \n",
      "Aquatics      4170\n",
      "Athletics     3638\n",
      "Rowing        2667\n",
      "Gymnastics    2307\n",
      "Fencing       1613\n"
     ]
    },
    {
     "data": {
      "text/plain": [
       "<AxesSubplot:xlabel='sport'>"
      ]
     },
     "execution_count": 25,
     "metadata": {},
     "output_type": "execute_result"
    },
    {
     "data": {
      "image/png": "[encoded data removed]",
      "text/plain": [
       "<Figure size 432x288 with 1 Axes>"
      ]
     },
     "metadata": {
      "needs_background": "light"
     },
     "output_type": "display_data"
    }
   ],
   "source": [
    "lst=[]\n",
    "for sport in data['Sport'].unique():\n",
    "    dummy=data[data['Sport']==sport]\n",
    "    lst.append([sport,len(dummy['Medal'])])\n",
    "\n",
    "lst=pd.DataFrame(lst,columns=['sport','medals'])\n",
    "lst=lst.sort_values(by='medals',ascending=False).head()\n",
    "lst=lst.set_index('sport')\n",
    "print(lst)\n",
    "lst.plot(kind='bar')"
   ]
  },
  {
   "cell_type": "markdown",
   "id": "premier-medicine",
   "metadata": {},
   "source": [
    "# 4.which player won most medal (Top 5)"
   ]
  },
  {
   "cell_type": "code",
   "execution_count": 15,
   "id": "quantitative-coach",
   "metadata": {},
   "outputs": [
    {
     "name": "stdout",
     "output_type": "stream",
     "text": [
      "         medals\n",
      "athelet        \n",
      "John        469\n",
      "William     299\n",
      "Robert      283\n",
      "VAN         276\n",
      "Charles     275\n"
     ]
    },
    {
     "data": {
      "text/plain": [
       "<AxesSubplot:xlabel='athelet'>"
      ]
     },
     "execution_count": 15,
     "metadata": {},
     "output_type": "execute_result"
    },
    {
     "data": {
      "image/png": "[encoded data removed]",
      "text/plain": [
       "<Figure size 432x288 with 1 Axes>"
      ]
     },
     "metadata": {
      "needs_background": "light"
     },
     "output_type": "display_data"
    }
   ],
   "source": [
    "lst=[]\n",
    "at=[]\n",
    "d=[]\n",
    "for i in data['Athlete']:\n",
    "    lst=i.split(' ')\n",
    "    for i in lst:\n",
    "        at.append(i)\n",
    "        \n",
    "se=set(at)\n",
    "   \n",
    "for i in se:\n",
    "    d.append([i,at.count(i)])\n",
    "\n",
    "d=pd.DataFrame(d,columns=['athelet','medals'])\n",
    "d=d.sort_values(by='medals',ascending=False).head()\n",
    "d=d.set_index('athelet')\n",
    "print(d)\n",
    "d.plot(kind='bar')"
   ]
  },
  {
   "cell_type": "markdown",
   "id": "clinical-tissue",
   "metadata": {},
   "source": [
    "# 5. Which player has won most number Gold Medals of medals? (Top 5)"
   ]
  },
  {
   "cell_type": "code",
   "execution_count": 16,
   "id": "green-platinum",
   "metadata": {},
   "outputs": [
    {
     "name": "stdout",
     "output_type": "stream",
     "text": [
      "         Gold Medals\n",
      "athelet             \n",
      "John             180\n",
      "Charles          122\n",
      "William          118\n",
      "Robert           114\n",
      "Michael          106\n"
     ]
    },
    {
     "data": {
      "text/plain": [
       "<AxesSubplot:xlabel='athelet'>"
      ]
     },
     "execution_count": 16,
     "metadata": {},
     "output_type": "execute_result"
    },
    {
     "data": {
      "image/png": "[encoded data removed]",
      "text/plain": [
       "<Figure size 432x288 with 1 Axes>"
      ]
     },
     "metadata": {
      "needs_background": "light"
     },
     "output_type": "display_data"
    }
   ],
   "source": [
    "newData=data[data['Medal']=='Gold']\n",
    "lst=[]\n",
    "at=[]\n",
    "d=[]\n",
    "for i in newData['Athlete']:\n",
    "    lst=i.split(' ')\n",
    "    for i in lst:\n",
    "        at.append(i)\n",
    "        \n",
    "se=set(at)\n",
    "   \n",
    "for i in se:\n",
    "    d.append([i,at.count(i)])\n",
    "\n",
    "d=pd.DataFrame(d,columns=['athelet','Gold Medals'])\n",
    "d=d.sort_values(by='Gold Medals',ascending=False).head()\n",
    "d=d.set_index('athelet')\n",
    "print(d)\n",
    "d.plot(kind='bar')\n"
   ]
  },
  {
   "cell_type": "markdown",
   "id": "heavy-knowing",
   "metadata": {},
   "source": [
    "# 6. In which year India won first Gold Medal In Summer Olympics"
   ]
  },
  {
   "cell_type": "code",
   "execution_count": 26,
   "id": "abstract-parcel",
   "metadata": {},
   "outputs": [
    {
     "data": {
      "text/html": [
       "<div>\n",
       "<style scoped>\n",
       "    .dataframe tbody tr th:only-of-type {\n",
       "        vertical-align: middle;\n",
       "    }\n",
       "\n",
       "    .dataframe tbody tr th {\n",
       "        vertical-align: top;\n",
       "    }\n",
       "\n",
       "    .dataframe thead th {\n",
       "        text-align: right;\n",
       "    }\n",
       "</style>\n",
       "<table border=\"1\" class=\"dataframe\">\n",
       "  <thead>\n",
       "    <tr style=\"text-align: right;\">\n",
       "      <th></th>\n",
       "    </tr>\n",
       "    <tr>\n",
       "      <th>year</th>\n",
       "    </tr>\n",
       "  </thead>\n",
       "  <tbody>\n",
       "    <tr>\n",
       "      <th>1928</th>\n",
       "    </tr>\n",
       "  </tbody>\n",
       "</table>\n",
       "</div>"
      ],
      "text/plain": [
       "Empty DataFrame\n",
       "Columns: []\n",
       "Index: [1928]"
      ]
     },
     "execution_count": 26,
     "metadata": {},
     "output_type": "execute_result"
    }
   ],
   "source": [
    "ds=data[data['Country']=='IND']\n",
    "newData=ds[ds['Medal']=='Gold']\n",
    "lst=[]\n",
    "for year in newData['Year'].unique():\n",
    "    dummy=newData[newData['Year']==year]\n",
    "    lst.append(year)\n",
    "\n",
    "lst=pd.DataFrame(lst,columns=['year'])\n",
    "lst=lst.sort_values(by='year',ascending=True).head(1)\n",
    "lst.set_index('year')"
   ]
  },
  {
   "cell_type": "markdown",
   "id": "transsexual-latex",
   "metadata": {},
   "source": [
    "# 7. Which event Is most popular In terms on number of players? (Top 5)"
   ]
  },
  {
   "cell_type": "code",
   "execution_count": 20,
   "id": "significant-listening",
   "metadata": {},
   "outputs": [
    {
     "name": "stdout",
     "output_type": "stream",
     "text": [
      "                  Freq\n",
      "Event                 \n",
      "Football          1497\n",
      "Hockey            1422\n",
      "Team Competition  1147\n",
      "Basketball        1012\n",
      "Handball           973\n"
     ]
    },
    {
     "data": {
      "text/plain": [
       "<AxesSubplot:xlabel='Event'>"
      ]
     },
     "execution_count": 20,
     "metadata": {},
     "output_type": "execute_result"
    },
    {
     "data": {
      "image/png": "[encoded data removed]",
      "text/plain": [
       "<Figure size 432x288 with 1 Axes>"
      ]
     },
     "metadata": {
      "needs_background": "light"
     },
     "output_type": "display_data"
    }
   ],
   "source": [
    "lst=[]\n",
    "for event in data['Event'].unique():\n",
    "    dummy=data[data['Event']==event]\n",
    "    lst.append([event,len(dummy['Event'])])\n",
    "\n",
    "lst=pd.DataFrame(lst,columns=['Event','Freq'])\n",
    "lst=lst.sort_values(by='Freq',ascending=False).head()\n",
    "lst=lst.set_index('Event')\n",
    "print(lst)\n",
    "lst.plot(kind='bar')"
   ]
  },
  {
   "cell_type": "markdown",
   "id": "asian-explosion",
   "metadata": {},
   "source": [
    "# 8. Which sport Is having most female Gold Medalists? (Top 5)"
   ]
  },
  {
   "cell_type": "code",
   "execution_count": 22,
   "id": "following-token",
   "metadata": {},
   "outputs": [
    {
     "name": "stdout",
     "output_type": "stream",
     "text": [
      "            Gold Medal\n",
      "sport                 \n",
      "Aquatics           589\n",
      "Athletics          389\n",
      "Gymnastics         268\n",
      "Rowing             217\n",
      "Volleyball         166\n"
     ]
    },
    {
     "data": {
      "text/plain": [
       "<AxesSubplot:xlabel='sport'>"
      ]
     },
     "execution_count": 22,
     "metadata": {},
     "output_type": "execute_result"
    },
    {
     "data": {
      "image/png": "[encoded data removed]",
      "text/plain": [
       "<Figure size 432x288 with 1 Axes>"
      ]
     },
     "metadata": {
      "needs_background": "light"
     },
     "output_type": "display_data"
    }
   ],
   "source": [
    "ds=data[data['Gender']=='Women']\n",
    "lst=[]\n",
    "for sport in ds['Sport'].unique():\n",
    "    dummy=ds[ds['Sport']==sport]\n",
    "    lst.append([sport,len(dummy[dummy['Medal']=='Gold'])])\n",
    "\n",
    "lst=pd.DataFrame(lst,columns=['sport','Gold Medal'])+\n",
    "lst=lst.sort_values(by='Gold Medal',ascending=False).head()\n",
    "lst=lst.set_index('sport')\n",
    "print(lst)\n",
    "lst.plot(kind='bar')\n"
   ]
  },
  {
   "cell_type": "code",
   "execution_count": null,
   "id": "nonprofit-leonard",
   "metadata": {},
   "outputs": [],
   "source": []
  }
 ],
 "metadata": {
  "kernelspec": {
   "display_name": "Python 3",
   "language": "python",
   "name": "python3"
  },
  "language_info": {
   "codemirror_mode": {
    "name": "ipython",
    "version": 3
   },
   "file_extension": ".py",
   "mimetype": "text/x-python",
   "name": "python",
   "nbconvert_exporter": "python",
   "pygments_lexer": "ipython3",
   "version": "3.9.1"
  }
 },
 "nbformat": 4,
 "nbformat_minor": 5
}
